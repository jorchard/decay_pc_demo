{
 "cells": [
  {
   "cell_type": "markdown",
   "metadata": {},
   "source": [
    "## Preliminaries"
   ]
  },
  {
   "cell_type": "code",
   "execution_count": 1,
   "metadata": {},
   "outputs": [],
   "source": [
    "import torch\n",
    "import numpy as np\n",
    "import matplotlib.pyplot as plt\n",
    "%matplotlib inline\n",
    "\n",
    "dtype = torch.float\n",
    "device = torch.device(\"cpu\")\n",
    "#device = torch.device(\"mps\")\n",
    "#device = torch.device(\"cuda:0\") # Uncomment this to run on GPU\n",
    "import NeuralNetwork as NN\n",
    "import Layer\n",
    "import importlib\n",
    "import time\n",
    "from copy import deepcopy\n",
    "from IPython.display import display\n",
    "from ipywidgets import FloatProgress\n",
    "\n",
    "import mnist_loader\n",
    "\n",
    "%load_ext autoreload\n",
    "%autoreload 2\n",
    "\n",
    "def DrawDigit(x):\n",
    "    plt.imshow(np.reshape(x, (28,28)), cmap='gray', interpolation='nearest')\n",
    "    plt.axis('off');"
   ]
  },
  {
   "cell_type": "markdown",
   "metadata": {},
   "source": [
    "## Load MNIST DATA"
   ]
  },
  {
   "cell_type": "code",
   "execution_count": 2,
   "metadata": {},
   "outputs": [
    {
     "name": "stderr",
     "output_type": "stream",
     "text": [
      "/var/folders/97/ppgk101x3214hn7bzlb85jk00000gn/T/ipykernel_75026/3892626216.py:2: UserWarning: Creating a tensor from a list of numpy.ndarrays is extremely slow. Please consider converting the list to a single numpy.ndarray with numpy.array() before converting to a tensor. (Triggered internally at /Users/runner/work/pytorch/pytorch/pytorch/torch/csrc/utils/tensor_new.cpp:248.)\n",
      "  train = [torch.tensor(train[0]).float().to(device), torch.tensor(train[1]).float().to(device)]\n"
     ]
    }
   ],
   "source": [
    "train, validate, test = mnist_loader.load_data_wrapper('mnist.pkl')\n",
    "train = [torch.tensor(train[0]).float().to(device), torch.tensor(train[1]).float().to(device)]\n",
    "test = [torch.tensor(test[0]).float().to(device), torch.tensor(test[1]).float().to(device)]"
   ]
  },
  {
   "cell_type": "code",
   "execution_count": 3,
   "metadata": {},
   "outputs": [],
   "source": [
    "idx = [1, 3, 25, 7, 58,145, 62, 79, 41, 57]"
   ]
  },
  {
   "cell_type": "code",
   "execution_count": 4,
   "metadata": {
    "scrolled": false
   },
   "outputs": [
    {
     "data": {
      "image/png": "[encoded data removed]",
      "text/plain": [
       "<Figure size 1500x600 with 10 Axes>"
      ]
     },
     "metadata": {},
     "output_type": "display_data"
    }
   ],
   "source": [
    "#      0  1   2  3   4   5   6   7   8   9\n",
    "idx = [1, 3, 25, 7, 58,145, 62, 79, 41, 57]\n",
    "plt.figure(figsize=[15,6])\n",
    "for n,k in enumerate(idx):\n",
    "    plt.subplot(2,5,n+1)\n",
    "    DrawDigit(train[0][k].cpu())"
   ]
  },
  {
   "cell_type": "markdown",
   "metadata": {},
   "source": [
    "## Create Network"
   ]
  },
  {
   "cell_type": "code",
   "execution_count": 5,
   "metadata": {},
   "outputs": [
    {
     "name": "stdout",
     "output_type": "stream",
     "text": [
      "tanh\n",
      "tanh\n",
      "tanh\n"
     ]
    }
   ],
   "source": [
    "# Deep Reversed\n",
    "net = NN.NeuralNetwork()\n",
    "net.AddLayer(Layer.InputPELayer(n=10))\n",
    "net.AddLayer(Layer.PELayer(n=600))\n",
    "net.AddLayer(Layer.PELayer(n=600))\n",
    "net.AddLayer(Layer.TopPELayer(n=784))\n",
    "\n",
    "af = 'tanh'\n",
    "sym = False\n",
    "\n",
    "net.Connect(0, 1, act=af, symmetric=sym)\n",
    "net.Connect(1, 2, act=af, symmetric=sym)\n",
    "net.Connect(2, 3, act=af, symmetric=sym)\n",
    "\n",
    "net.SetTau(0.08)\n",
    "net.learn_biases = False"
   ]
  },
  {
   "cell_type": "code",
   "execution_count": 7,
   "metadata": {},
   "outputs": [],
   "source": [
    "for i in range(0, len(net.connections)):\n",
    "    W = np.load('generatively_trained_W_{i}.npy'.format(i=i))\n",
    "    M = np.load('generatively_trained_M_{i}.npy'.format(i=i))\n",
    "    net.connections[i].W = torch.tensor(W).float().to(device)\n",
    "    net.connections[i].M = torch.tensor(M).float().to(device)"
   ]
  },
  {
   "cell_type": "code",
   "execution_count": 8,
   "metadata": {},
   "outputs": [
    {
     "name": "stdout",
     "output_type": "stream",
     "text": [
      "tensor([[ 0.0283,  0.0024, -0.0135,  ..., -0.0123, -0.0201, -0.0120],\n",
      "        [-0.0355,  0.0427,  0.0064,  ..., -0.0229,  0.0411, -0.0167],\n",
      "        [ 0.0262, -0.0235,  0.0294,  ..., -0.0095, -0.0241,  0.0224],\n",
      "        ...,\n",
      "        [ 0.0076,  0.0328,  0.0267,  ...,  0.0256,  0.0448,  0.0106],\n",
      "        [ 0.0235,  0.0359,  0.0169,  ..., -0.0308, -0.0103, -0.0393],\n",
      "        [ 0.0021, -0.0047,  0.0377,  ..., -0.0217, -0.0223,  0.0088]])\n",
      "tensor([[ 0.0283, -0.0355,  0.0262,  ...,  0.0076,  0.0235,  0.0021],\n",
      "        [ 0.0024,  0.0427, -0.0235,  ...,  0.0328,  0.0359, -0.0047],\n",
      "        [-0.0135,  0.0064,  0.0294,  ...,  0.0267,  0.0169,  0.0377],\n",
      "        ...,\n",
      "        [-0.0123, -0.0229, -0.0095,  ...,  0.0256, -0.0308, -0.0217],\n",
      "        [-0.0201,  0.0411, -0.0241,  ...,  0.0448, -0.0103, -0.0223],\n",
      "        [-0.0120, -0.0167,  0.0224,  ...,  0.0106, -0.0393,  0.0088]])\n",
      "tensor([[ 3.0596e-03,  5.7404e-04,  1.4568e-03,  ..., -1.7131e-03,\n",
      "         -2.1936e-03, -7.9853e-04],\n",
      "        [ 2.1024e-03, -2.6317e-03, -2.8860e-03,  ...,  8.0333e-04,\n",
      "         -1.5833e-03,  6.8295e-05],\n",
      "        [ 6.7241e-04, -2.3000e-03,  2.7125e-03,  ...,  1.8368e-03,\n",
      "         -3.6421e-04,  1.4484e-03],\n",
      "        ...,\n",
      "        [-2.1464e-03,  2.8804e-03, -8.5645e-05,  ...,  7.5377e-04,\n",
      "          1.9906e-03,  4.9510e-03],\n",
      "        [ 8.6980e-04, -5.7355e-04, -2.7186e-03,  ..., -7.1720e-04,\n",
      "         -3.7076e-03,  1.0739e-03],\n",
      "        [-1.7653e-03,  2.1118e-03,  9.9108e-04,  ...,  8.4910e-04,\n",
      "          2.3855e-03,  3.4465e-03]])\n",
      "tensor([[ 3.0596e-03,  2.1024e-03,  6.7241e-04,  ..., -2.1464e-03,\n",
      "          8.6980e-04, -1.7653e-03],\n",
      "        [ 5.7404e-04, -2.6317e-03, -2.3000e-03,  ...,  2.8804e-03,\n",
      "         -5.7355e-04,  2.1118e-03],\n",
      "        [ 1.4568e-03, -2.8860e-03,  2.7125e-03,  ..., -8.5645e-05,\n",
      "         -2.7186e-03,  9.9108e-04],\n",
      "        ...,\n",
      "        [-1.7131e-03,  8.0333e-04,  1.8368e-03,  ...,  7.5377e-04,\n",
      "         -7.1720e-04,  8.4910e-04],\n",
      "        [-2.1936e-03, -1.5833e-03, -3.6421e-04,  ...,  1.9906e-03,\n",
      "         -3.7076e-03,  2.3855e-03],\n",
      "        [-7.9853e-04,  6.8295e-05,  1.4484e-03,  ...,  4.9510e-03,\n",
      "          1.0739e-03,  3.4465e-03]])\n",
      "tensor([[-4.4996e-42, -5.6038e-42,  5.6038e-42,  ..., -5.6038e-42,\n",
      "         -5.6038e-42, -5.6038e-42],\n",
      "        [ 5.6038e-42, -5.6038e-42,  5.6038e-42,  ...,  5.6038e-42,\n",
      "         -5.6038e-42, -5.6038e-42],\n",
      "        [ 5.6038e-42, -5.6038e-42,  5.6038e-42,  ...,  5.6038e-42,\n",
      "         -5.6038e-42, -5.6038e-42],\n",
      "        ...,\n",
      "        [-5.6038e-42,  5.6038e-42, -5.6038e-42,  ...,  5.6038e-42,\n",
      "          5.6038e-42, -5.6038e-42],\n",
      "        [ 5.6038e-42,  5.6038e-42, -5.6038e-42,  ..., -5.6038e-42,\n",
      "         -5.6038e-42,  5.6038e-42],\n",
      "        [ 5.6038e-42, -5.6038e-42,  5.6038e-42,  ...,  5.6038e-42,\n",
      "         -5.6038e-42,  5.6038e-42]])\n",
      "tensor([[ 5.6038e-42,  5.6038e-42,  5.6038e-42,  ..., -5.6038e-42,\n",
      "         -5.6038e-42,  5.6038e-42],\n",
      "        [-5.6038e-42, -5.6038e-42,  5.6038e-42,  ...,  5.6038e-42,\n",
      "          5.6038e-42, -5.6038e-42],\n",
      "        [ 5.6038e-42,  5.6038e-42,  5.6038e-42,  ..., -5.6038e-42,\n",
      "         -5.6038e-42,  5.6038e-42],\n",
      "        ...,\n",
      "        [-5.6038e-42,  5.6038e-42,  5.6038e-42,  ...,  5.6038e-42,\n",
      "         -5.6038e-42,  5.6038e-42],\n",
      "        [-5.6038e-42, -5.6038e-42, -5.6038e-42,  ...,  5.6038e-42,\n",
      "          5.6038e-42,  5.6038e-42],\n",
      "        [-5.6038e-42, -5.6038e-42, -5.6038e-42,  ...,  1.4980e-42,\n",
      "          5.6038e-42, -5.6038e-42]])\n"
     ]
    }
   ],
   "source": [
    "for c in net.connections:\n",
    "    print(c.W)\n",
    "    print(c.M)"
   ]
  },
  {
   "cell_type": "code",
   "execution_count": 9,
   "metadata": {},
   "outputs": [],
   "source": [
    "net1 = deepcopy(net)"
   ]
  },
  {
   "cell_type": "code",
   "execution_count": 10,
   "metadata": {
    "code_folding": []
   },
   "outputs": [
    {
     "name": "stdout",
     "output_type": "stream",
     "text": [
      "train set accuracy: 0.70378\n"
     ]
    }
   ],
   "source": [
    "# FAST METHOD: Training Accuracy\n",
    "correct = 0\n",
    "for i in range(0, 5):\n",
    "    z = net1.BackprojectExpectation(train[0][i*10000:(i+1)*10000])\n",
    "    y_classes = np.argmax(z.cpu(),1)\n",
    "    t_classes = np.argmax(train[1][i*10000:(i+1)*10000].cpu(), 1)\n",
    "    correct += np.count_nonzero((y_classes - t_classes)==0)\n",
    "print('train set accuracy: {rate}'.format(rate=(correct / len(train[0]))))"
   ]
  },
  {
   "cell_type": "code",
   "execution_count": 11,
   "metadata": {
    "code_folding": []
   },
   "outputs": [
    {
     "name": "stdout",
     "output_type": "stream",
     "text": [
      "test set accuracy: 0.7141\n"
     ]
    }
   ],
   "source": [
    "# FAST METHOD: Test Accuracy\n",
    "correct = 0\n",
    "z = net1.BackprojectExpectation(test[0])\n",
    "#z = net.connections[0].sigma(net.layers[1].v)@net.connections[0].M + net.layers[0].b\n",
    "y_classes = np.argmax(z.cpu(),1)\n",
    "t_classes = np.argmax(test[1].cpu(), 1)\n",
    "correct = np.count_nonzero((y_classes - t_classes)==0)\n",
    "print('test set accuracy: {rate}'.format(rate=(correct / len(test[0]))))"
   ]
  },
  {
   "cell_type": "code",
   "execution_count": 12,
   "metadata": {
    "scrolled": false
   },
   "outputs": [
    {
     "name": "stdout",
     "output_type": "stream",
     "text": [
      "Total time: 60.354187965393066\n"
     ]
    },
    {
     "data": {
      "image/png": "[encoded data removed]",
      "text/plain": [
       "<Figure size 1800x600 with 20 Axes>"
      ]
     },
     "metadata": {},
     "output_type": "display_data"
    }
   ],
   "source": [
    "start = time.time()\n",
    "net1.Reset()\n",
    "net1.SetvDecay(0.001)\n",
    "net1.layers[0].SetFF()\n",
    "net1.layers[-1].SetFF()\n",
    "z1 = net1.Predict(60., train[1][idx], dt=0.002)\n",
    "plt.figure(figsize=[18,6])\n",
    "for n in range(10):\n",
    "    zz1 = z1[n]\n",
    "    plt.subplot(2,10,n+1); DrawDigit(train[0][idx[n]].cpu())\n",
    "    plt.subplot(2,10,n+11); DrawDigit(zz1.cpu())\n",
    "    \n",
    "print(f'Total time: {time.time()-start}')"
   ]
  },
  {
   "cell_type": "code",
   "execution_count": null,
   "metadata": {},
   "outputs": [],
   "source": []
  }
 ],
 "metadata": {
  "anaconda-cloud": {},
  "kernelspec": {
   "display_name": "torch",
   "language": "python",
   "name": "torch"
  },
  "language_info": {
   "codemirror_mode": {
    "name": "ipython",
    "version": 3
   },
   "file_extension": ".py",
   "mimetype": "text/x-python",
   "name": "python",
   "nbconvert_exporter": "python",
   "pygments_lexer": "ipython3",
   "version": "3.9.16"
  },
  "toc": {
   "base_numbering": 1,
   "nav_menu": {},
   "number_sections": true,
   "sideBar": true,
   "skip_h1_title": false,
   "title_cell": "Table of Contents",
   "title_sidebar": "Contents",
   "toc_cell": false,
   "toc_position": {},
   "toc_section_display": true,
   "toc_window_display": false
  },
  "widgets": {
   "state": {
    "05de5c2956b049c89bcb4ef23aaa1f3a": {
     "views": [
      {
       "cell_index": 20
      }
     ]
    },
    "0c796de8e8e849639b4b34fbd508d7b8": {
     "views": [
      {
       "cell_index": 21
      }
     ]
    }
   },
   "version": "1.2.0"
  }
 },
 "nbformat": 4,
 "nbformat_minor": 2
}
